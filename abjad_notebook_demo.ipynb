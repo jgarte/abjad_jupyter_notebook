{
 "cells": [
  {
   "cell_type": "code",
   "execution_count": null,
   "id": "16d25581",
   "metadata": {},
   "outputs": [],
   "source": [
    "import abjad\n",
    "string = \"c'16 f' g' a' d' g' a' b' e' a' b' c'' f' b' c'' d''16\"\n",
    "voice_1 = abjad.Voice(string, name=\"Voice_1\")\n",
    "staff_1 = abjad.Staff([voice_1], name=\"Staff_1\")\n",
    "print(staff_1)"
   ]
  }
 ],
 "metadata": {
  "kernelspec": {
   "display_name": "Python 3",
   "language": "/gnu/store/nckjv3ccwdi6096j478gvns43ssbls2p-python-wrapper-3.8.2/bin/python",
   "name": "python3"
  },
  "language_info": {
   "codemirror_mode": {
    "name": "ipython",
    "version": 3
   },
   "file_extension": ".py",
   "mimetype": "text/x-python",
   "name": "python",
   "nbconvert_exporter": "python",
   "pygments_lexer": "ipython3",
   "version": "3.8.2"
  }
 },
 "nbformat": 4,
 "nbformat_minor": 5
}
